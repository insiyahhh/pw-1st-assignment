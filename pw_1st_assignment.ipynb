{
  "nbformat": 4,
  "nbformat_minor": 0,
  "metadata": {
    "colab": {
      "provenance": []
    },
    "kernelspec": {
      "name": "python3",
      "display_name": "Python 3"
    },
    "language_info": {
      "name": "python"
    }
  },
  "cells": [
    {
      "cell_type": "code",
      "execution_count": null,
      "metadata": {
        "id": "82bK3kZHVwtU"
      },
      "outputs": [],
      "source": [
        "# theory"
      ]
    },
    {
      "cell_type": "markdown",
      "source": [
        "# theory"
      ],
      "metadata": {
        "id": "Ro9gSBLk30Qm"
      }
    },
    {
      "cell_type": "markdown",
      "source": [
        "answer 1:\n",
        "python is a programming language ,it is a set of rules and symbols that we use to give instruction to the computer\n",
        "it is popular because it is simple ,easy to learn ,and has a large varieties of function and has pre-defined keywords\n"
      ],
      "metadata": {
        "id": "UooR5oGxn6wL"
      }
    },
    {
      "cell_type": "markdown",
      "source": [
        "answer 2:an interpreter in python is a program that reads and executes python code step by step"
      ],
      "metadata": {
        "id": "tCvBey8hpMq0"
      }
    },
    {
      "cell_type": "markdown",
      "source": [
        "answer 3:pre-defined ketwords in python are keywords which are used to define the structure of python code and logic of the code .They are already reserved in python\n",
        "examples : boolean values ,none,break ,continue etc."
      ],
      "metadata": {
        "id": "K2EktYdKprHs"
      }
    },
    {
      "cell_type": "markdown",
      "source": [
        "answer 4:no,keywords cannot be used as variables in python"
      ],
      "metadata": {
        "id": "E8usMCTCqpm_"
      }
    },
    {
      "cell_type": "markdown",
      "source": [
        "answer 5:mutability in python means we can change or modify the objects after its coded or created ,we can also add or remove elements"
      ],
      "metadata": {
        "id": "Hh6J5iivq4u7"
      }
    },
    {
      "cell_type": "markdown",
      "source": [
        "answer 6:list are mutable which means they can be changed and tuples are immutable which means they cannot be changed onces they are created it is because list uses [] brackets and tuples uses() brackets"
      ],
      "metadata": {
        "id": "CptS1ezOrX1S"
      }
    },
    {
      "cell_type": "markdown",
      "source": [
        "answer 7:\"==\" in python is used to check whether the values are equal or not and \"is\" is used in python to check whether the objects are in same memory or not"
      ],
      "metadata": {
        "id": "a3oQv483sh55"
      }
    },
    {
      "cell_type": "markdown",
      "source": [
        "answer 8:logical operators in python are \"and\" and \"or\""
      ],
      "metadata": {
        "id": "wHhJ4rxStQYg"
      }
    },
    {
      "cell_type": "markdown",
      "source": [
        "answer 9:type casting in python is also known as type conversion which means it is a process of changing the data type of a value or object"
      ],
      "metadata": {
        "id": "O-GDqksLt8dv"
      }
    },
    {
      "cell_type": "markdown",
      "source": [
        "answer 10:the difference between implicit and explicit type casting is implicit type caste is automatic and the explicit type casting is done manually by the programmer\n",
        "in implicit type casting there can be data loss or unexpected results and in explicit type casting there is no loss and has more control and precision"
      ],
      "metadata": {
        "id": "0Pnd6zLYuVVT"
      }
    },
    {
      "cell_type": "markdown",
      "source": [
        "answer 11:the purpose of conditional statement in python helps the code to make decisions and to check whether it is true or false ,and executes the code based on the specific action"
      ],
      "metadata": {
        "id": "H3kWU-JFvkyi"
      }
    },
    {
      "cell_type": "markdown",
      "source": [
        "answer 12:elif statement in python to check the the else condition if the if condition is false"
      ],
      "metadata": {
        "id": "dqdIiPPWwO9k"
      }
    },
    {
      "cell_type": "markdown",
      "source": [
        "answer 13:the difference between the while loop and the for loop is that the while loop repeatedly executes a block of code until a condition is met where as for loop iterates over a sequence of elements"
      ],
      "metadata": {
        "id": "TTXXmzJJw2SN"
      }
    },
    {
      "cell_type": "markdown",
      "source": [
        "answer 14:a scenario where a while loop is more suitable than a for loop is keeping a watch at a security checkpoint,which is continuesly checking for threats"
      ],
      "metadata": {
        "id": "Mpi5PNHsxqw3"
      }
    },
    {
      "cell_type": "markdown",
      "source": [
        "#practical answer\n",
        "#answer 1:\n",
        "    print(\"Hello,world!\")\n",
        "\n"
      ],
      "metadata": {
        "id": "tm1ajp_4ybci"
      }
    },
    {
      "cell_type": "code",
      "source": [
        "#answer 2:\n",
        "name = \"insiyah\"\n",
        "age = 20\n",
        "print(\"my name is \",name )\n",
        "print(\"my age is\",age)\n"
      ],
      "metadata": {
        "colab": {
          "base_uri": "https://localhost:8080/"
        },
        "id": "oG8MV9odzlyO",
        "outputId": "2cf6074b-933f-4836-9088-01e128d3ae00"
      },
      "execution_count": 6,
      "outputs": [
        {
          "output_type": "stream",
          "name": "stdout",
          "text": [
            "my name is  insiyah\n",
            "my age is 20\n"
          ]
        }
      ]
    },
    {
      "cell_type": "code",
      "source": [
        "#answer 3:\n",
        "import keyword\n",
        "keywords = keyword.kwlist\n",
        "print(\"python keywords:\")\n",
        "for keyword in keywords:\n",
        "    print(keyword)\n"
      ],
      "metadata": {
        "colab": {
          "base_uri": "https://localhost:8080/"
        },
        "id": "cupddX911boi",
        "outputId": "0c9e2cd1-2426-49cc-cb01-233d53a1a9b0"
      },
      "execution_count": 7,
      "outputs": [
        {
          "output_type": "stream",
          "name": "stdout",
          "text": [
            "python keywords:\n",
            "False\n",
            "None\n",
            "True\n",
            "and\n",
            "as\n",
            "assert\n",
            "async\n",
            "await\n",
            "break\n",
            "class\n",
            "continue\n",
            "def\n",
            "del\n",
            "elif\n",
            "else\n",
            "except\n",
            "finally\n",
            "for\n",
            "from\n",
            "global\n",
            "if\n",
            "import\n",
            "in\n",
            "is\n",
            "lambda\n",
            "nonlocal\n",
            "not\n",
            "or\n",
            "pass\n",
            "raise\n",
            "return\n",
            "try\n",
            "while\n",
            "with\n",
            "yield\n"
          ]
        }
      ]
    },
    {
      "cell_type": "code",
      "source": [
        "#answer 4:\n",
        "import keyword\n",
        "s = \"lol\"\n",
        "if s in keyword.kwlist:\n",
        "    print(\"it is a python keyword\")\n",
        "else:\n",
        "    print(\"it is not a python keyword\")"
      ],
      "metadata": {
        "colab": {
          "base_uri": "https://localhost:8080/"
        },
        "id": "UHnarMNw2WGV",
        "outputId": "cf06a421-7568-4720-d363-848ece93104f"
      },
      "execution_count": 8,
      "outputs": [
        {
          "output_type": "stream",
          "name": "stdout",
          "text": [
            "it is not a python keyword\n"
          ]
        }
      ]
    },
    {
      "cell_type": "code",
      "source": [
        "#answer 5:\n",
        "#list\n",
        "shopping_list = [\"apple\",\"banana\",\"orange\",\"grapes\",\"mango\"]\n",
        "shopping_list[1] = \"watermelon\"\n",
        "#tuple\n",
        "fruits = (\"apple\",\"banana\",\"orange\",\"grapes\",\"mango\")\n",
        "fruits(0) = \"watermelon\""
      ],
      "metadata": {
        "colab": {
          "base_uri": "https://localhost:8080/",
          "height": 106
        },
        "id": "28nMvkQv3UJX",
        "outputId": "27c10b22-d23b-4cc2-b539-8432ead2c686"
      },
      "execution_count": 9,
      "outputs": [
        {
          "output_type": "error",
          "ename": "SyntaxError",
          "evalue": "cannot assign to function call here. Maybe you meant '==' instead of '='? (<ipython-input-9-9017639b5bb1>, line 7)",
          "traceback": [
            "\u001b[0;36m  File \u001b[0;32m\"<ipython-input-9-9017639b5bb1>\"\u001b[0;36m, line \u001b[0;32m7\u001b[0m\n\u001b[0;31m    fruits(0) = \"watermelon\"\u001b[0m\n\u001b[0m    ^\u001b[0m\n\u001b[0;31mSyntaxError\u001b[0m\u001b[0;31m:\u001b[0m cannot assign to function call here. Maybe you meant '==' instead of '='?\n"
          ]
        }
      ]
    },
    {
      "cell_type": "code",
      "source": [
        "#answer 6:\n",
        "#mutable argument\n",
        "  def modify_list(lst):\n",
        "    lst.append(4)\n",
        "my_list = [1, 2, 3]\n",
        "modify_list(my_list)\n",
        "print(my_list)\n",
        "\n",
        "#immutable argument\n",
        "def modify_tuple(tup):\n",
        "    tup = tup + (4,)\n",
        "my_tuple = (1, 2, 3)\n",
        "modify_tuple(my_tuple)\n",
        "print(my_tuple)"
      ],
      "metadata": {
        "colab": {
          "base_uri": "https://localhost:8080/",
          "height": 106
        },
        "id": "dq1yWK0X5efH",
        "outputId": "e02a99f8-1d1c-4ec1-cf50-527fb8a8f54b"
      },
      "execution_count": 10,
      "outputs": [
        {
          "output_type": "error",
          "ename": "IndentationError",
          "evalue": "unexpected indent (<ipython-input-10-fff2fa0d0316>, line 3)",
          "traceback": [
            "\u001b[0;36m  File \u001b[0;32m\"<ipython-input-10-fff2fa0d0316>\"\u001b[0;36m, line \u001b[0;32m3\u001b[0m\n\u001b[0;31m    def modify_list(lst):\u001b[0m\n\u001b[0m    ^\u001b[0m\n\u001b[0;31mIndentationError\u001b[0m\u001b[0;31m:\u001b[0m unexpected indent\n"
          ]
        }
      ]
    },
    {
      "cell_type": "code",
      "source": [
        "#answer 7;\n",
        "a = 10\n",
        "b = 20\n",
        "a + b"
      ],
      "metadata": {
        "colab": {
          "base_uri": "https://localhost:8080/"
        },
        "id": "8vIXDV9a6soW",
        "outputId": "34ec544e-b201-43a8-f434-a5740263a869"
      },
      "execution_count": 11,
      "outputs": [
        {
          "output_type": "execute_result",
          "data": {
            "text/plain": [
              "30"
            ]
          },
          "metadata": {},
          "execution_count": 11
        }
      ]
    },
    {
      "cell_type": "code",
      "source": [
        "#answer 8:\n",
        "# logical operators\n",
        "a = True\n",
        "b = False\n",
        "print(a and b)\n",
        "print(a or b)\n",
        "print(not a)"
      ],
      "metadata": {
        "colab": {
          "base_uri": "https://localhost:8080/"
        },
        "id": "E2KWQy7b7ihJ",
        "outputId": "aa589083-435c-421d-ec0c-cf770231fe32"
      },
      "execution_count": 12,
      "outputs": [
        {
          "output_type": "stream",
          "name": "stdout",
          "text": [
            "False\n",
            "True\n",
            "False\n"
          ]
        }
      ]
    },
    {
      "cell_type": "code",
      "source": [
        "#answer 9:\n",
        "a = 5\n",
        "type(a)\n",
        "#int\n",
        "a\n",
        "#5\n",
        "str(a)\n",
        "#'5'"
      ],
      "metadata": {
        "colab": {
          "base_uri": "https://localhost:8080/",
          "height": 35
        },
        "id": "UrhCMP_s71Zp",
        "outputId": "37d6702f-b55e-4d8b-b691-683efb2cfd06"
      },
      "execution_count": 13,
      "outputs": [
        {
          "output_type": "execute_result",
          "data": {
            "text/plain": [
              "'5'"
            ],
            "application/vnd.google.colaboratory.intrinsic+json": {
              "type": "string"
            }
          },
          "metadata": {},
          "execution_count": 13
        }
      ]
    },
    {
      "cell_type": "code",
      "source": [
        "#answer 10:\n",
        "a = 3.4\n",
        "type(a)\n",
        "#float\n",
        "a\n",
        "#3.4\n",
        "int(a)\n",
        "#3"
      ],
      "metadata": {
        "colab": {
          "base_uri": "https://localhost:8080/"
        },
        "id": "-RAfL_o_8jcF",
        "outputId": "f8973731-26fa-42c6-eb77-f94a358168e2"
      },
      "execution_count": 14,
      "outputs": [
        {
          "output_type": "execute_result",
          "data": {
            "text/plain": [
              "3"
            ]
          },
          "metadata": {},
          "execution_count": 14
        }
      ]
    },
    {
      "cell_type": "code",
      "source": [
        "#answer 11\n",
        "\n",
        "def int(num):\n",
        "if num > 0:\n",
        "    print(\"{num} is a positive number\")\n",
        "    elif num < 0:\n",
        "        print(\"{num} is a negative number\")\n",
        "        else:\n",
        "          print(\"the number is zero\")"
      ],
      "metadata": {
        "colab": {
          "base_uri": "https://localhost:8080/",
          "height": 106
        },
        "id": "Kb7KkifQ9GSd",
        "outputId": "65e4b4e4-967a-4c26-bc18-ca97cfa476a2"
      },
      "execution_count": 4,
      "outputs": [
        {
          "output_type": "error",
          "ename": "IndentationError",
          "evalue": "expected an indented block after function definition on line 3 (<ipython-input-4-792de230151f>, line 4)",
          "traceback": [
            "\u001b[0;36m  File \u001b[0;32m\"<ipython-input-4-792de230151f>\"\u001b[0;36m, line \u001b[0;32m4\u001b[0m\n\u001b[0;31m    if num > 0:\u001b[0m\n\u001b[0m    ^\u001b[0m\n\u001b[0;31mIndentationError\u001b[0m\u001b[0;31m:\u001b[0m expected an indented block after function definition on line 3\n"
          ]
        }
      ]
    },
    {
      "cell_type": "code",
      "source": [
        "#answer 12:\n",
        "for i in range (1,11):\n",
        "    print(i)"
      ],
      "metadata": {
        "colab": {
          "base_uri": "https://localhost:8080/"
        },
        "id": "-b-vvBzo-f8z",
        "outputId": "f76dea35-d69c-405b-ed8d-5e4c5195dde9"
      },
      "execution_count": 15,
      "outputs": [
        {
          "output_type": "stream",
          "name": "stdout",
          "text": [
            "1\n",
            "2\n",
            "3\n",
            "4\n",
            "5\n",
            "6\n",
            "7\n",
            "8\n",
            "9\n",
            "10\n"
          ]
        }
      ]
    },
    {
      "cell_type": "code",
      "source": [
        "#answer 13 :\n",
        "a = 1\n",
        "b = 51\n",
        "for i in range(a,b):\n",
        "    if i % 2 == 0:\n",
        "        print(i)"
      ],
      "metadata": {
        "colab": {
          "base_uri": "https://localhost:8080/"
        },
        "id": "HU7PHuFW9hq6",
        "outputId": "a033572e-3f32-43d5-d53d-e10506119ed1"
      },
      "execution_count": 16,
      "outputs": [
        {
          "output_type": "stream",
          "name": "stdout",
          "text": [
            "2\n",
            "4\n",
            "6\n",
            "8\n",
            "10\n",
            "12\n",
            "14\n",
            "16\n",
            "18\n",
            "20\n",
            "22\n",
            "24\n",
            "26\n",
            "28\n",
            "30\n",
            "32\n",
            "34\n",
            "36\n",
            "38\n",
            "40\n",
            "42\n",
            "44\n",
            "46\n",
            "48\n",
            "50\n"
          ]
        }
      ]
    },
    {
      "cell_type": "code",
      "source": [
        "#answer 14:\n",
        "name = str((input(\"enter the name:\")))\n",
        "i = len(name)\n",
        "while i in range(len(name )) > 0:\n",
        "    print(name[i],end = \"\")\n",
        "    i = i - 1"
      ],
      "metadata": {
        "colab": {
          "base_uri": "https://localhost:8080/"
        },
        "id": "879oO3WV6sT2",
        "outputId": "afb680c8-ad2a-4158-a244-5a64959ef3de"
      },
      "execution_count": 18,
      "outputs": [
        {
          "name": "stdout",
          "output_type": "stream",
          "text": [
            "enter the name:insiyah\n"
          ]
        }
      ]
    },
    {
      "cell_type": "code",
      "source": [
        "#answer 15:\n",
        "num = 6\n",
        "factorial = 1\n",
        "if num < 0:\n",
        "  print(\"factorial does not exist for negative numbers\")\n",
        "\n",
        "else if num == 0:\n",
        "    print(\"the factorial of 0 is 1\")\n",
        "    else:\n",
        "        for i in range(1, num + 1):\n",
        "            factorial = factorial * i\n",
        "        print(\"the factorial of\", num, \"is\", factorial)"
      ],
      "metadata": {
        "colab": {
          "base_uri": "https://localhost:8080/",
          "height": 106
        },
        "id": "1Ds8IXXTBOTB",
        "outputId": "59d97ac5-180f-4a99-9f19-e3a7920f4bb8"
      },
      "execution_count": 25,
      "outputs": [
        {
          "output_type": "error",
          "ename": "SyntaxError",
          "evalue": "expected ':' (<ipython-input-25-817560eacdb3>, line 7)",
          "traceback": [
            "\u001b[0;36m  File \u001b[0;32m\"<ipython-input-25-817560eacdb3>\"\u001b[0;36m, line \u001b[0;32m7\u001b[0m\n\u001b[0;31m    else if num == 0:\u001b[0m\n\u001b[0m         ^\u001b[0m\n\u001b[0;31mSyntaxError\u001b[0m\u001b[0;31m:\u001b[0m expected ':'\n"
          ]
        }
      ]
    },
    {
      "cell_type": "code",
      "source": [],
      "metadata": {
        "id": "7cpsqCgbBOCP"
      },
      "execution_count": null,
      "outputs": []
    },
    {
      "cell_type": "markdown",
      "source": [],
      "metadata": {
        "id": "5MBA86MIo-BL"
      }
    },
    {
      "cell_type": "markdown",
      "source": [],
      "metadata": {
        "id": "39dEJZQ7Vxx_"
      }
    }
  ]
}